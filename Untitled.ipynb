{
 "cells": [
  {
   "cell_type": "code",
   "execution_count": 1,
   "metadata": {
    "collapsed": true
   },
   "outputs": [],
   "source": [
    "import numpy as np\n",
    "import pandas as pd\n",
    "import matplotlib.pyplot as plt\n",
    "import seaborn as sns\n",
    "color = sns.color_palette()\n",
    "\n",
    "%matplotlib inline\n",
    "\n",
    "pd.options.mode.chained_assignment = None  # default='warn'\n",
    "pd.set_option('display.max_columns', 500)"
   ]
  },
  {
   "cell_type": "code",
   "execution_count": 2,
   "metadata": {
    "collapsed": true
   },
   "outputs": [],
   "source": [
    "df = pd.read_excel('stores_data.xlsx')"
   ]
  },
  {
   "cell_type": "code",
   "execution_count": 3,
   "metadata": {
    "collapsed": false
   },
   "outputs": [
    {
     "data": {
      "text/html": [
       "<div>\n",
       "<style>\n",
       "    .dataframe thead tr:only-child th {\n",
       "        text-align: right;\n",
       "    }\n",
       "\n",
       "    .dataframe thead th {\n",
       "        text-align: left;\n",
       "    }\n",
       "\n",
       "    .dataframe tbody tr th {\n",
       "        vertical-align: top;\n",
       "    }\n",
       "</style>\n",
       "<table border=\"1\" class=\"dataframe\">\n",
       "  <thead>\n",
       "    <tr style=\"text-align: right;\">\n",
       "      <th></th>\n",
       "      <th>День</th>\n",
       "      <th>КодНоменклатуры</th>\n",
       "      <th>KOD_CLT</th>\n",
       "      <th>ОтгрузкаШТ</th>\n",
       "      <th>ОтгрузкаРуб</th>\n",
       "      <th>ВозвратШТ</th>\n",
       "      <th>ВозвратРуб</th>\n",
       "      <th>ОтгрузкаКГ</th>\n",
       "      <th>ВозвратКГ</th>\n",
       "    </tr>\n",
       "  </thead>\n",
       "  <tbody>\n",
       "    <tr>\n",
       "      <th>0</th>\n",
       "      <td>2016-02-01</td>\n",
       "      <td>УСП00000107</td>\n",
       "      <td>93</td>\n",
       "      <td>12.0</td>\n",
       "      <td>435.6</td>\n",
       "      <td>0.0</td>\n",
       "      <td>0.0</td>\n",
       "      <td>7.2</td>\n",
       "      <td>0.0</td>\n",
       "    </tr>\n",
       "    <tr>\n",
       "      <th>1</th>\n",
       "      <td>2016-02-01</td>\n",
       "      <td>УСП00000107</td>\n",
       "      <td>155180</td>\n",
       "      <td>24.0</td>\n",
       "      <td>871.2</td>\n",
       "      <td>0.0</td>\n",
       "      <td>0.0</td>\n",
       "      <td>14.4</td>\n",
       "      <td>0.0</td>\n",
       "    </tr>\n",
       "    <tr>\n",
       "      <th>2</th>\n",
       "      <td>2016-02-01</td>\n",
       "      <td>УСП00000107</td>\n",
       "      <td>155196</td>\n",
       "      <td>8.0</td>\n",
       "      <td>290.4</td>\n",
       "      <td>0.0</td>\n",
       "      <td>0.0</td>\n",
       "      <td>4.8</td>\n",
       "      <td>0.0</td>\n",
       "    </tr>\n",
       "    <tr>\n",
       "      <th>3</th>\n",
       "      <td>2016-02-01</td>\n",
       "      <td>УСП00000107</td>\n",
       "      <td>155197</td>\n",
       "      <td>12.0</td>\n",
       "      <td>435.6</td>\n",
       "      <td>0.0</td>\n",
       "      <td>0.0</td>\n",
       "      <td>7.2</td>\n",
       "      <td>0.0</td>\n",
       "    </tr>\n",
       "    <tr>\n",
       "      <th>4</th>\n",
       "      <td>2016-02-01</td>\n",
       "      <td>УСП00000861</td>\n",
       "      <td>93</td>\n",
       "      <td>4.0</td>\n",
       "      <td>83.6</td>\n",
       "      <td>0.0</td>\n",
       "      <td>0.0</td>\n",
       "      <td>1.4</td>\n",
       "      <td>0.0</td>\n",
       "    </tr>\n",
       "  </tbody>\n",
       "</table>\n",
       "</div>"
      ],
      "text/plain": [
       "        День КодНоменклатуры  KOD_CLT  ОтгрузкаШТ  ОтгрузкаРуб  ВозвратШТ  \\\n",
       "0 2016-02-01     УСП00000107       93        12.0        435.6        0.0   \n",
       "1 2016-02-01     УСП00000107   155180        24.0        871.2        0.0   \n",
       "2 2016-02-01     УСП00000107   155196         8.0        290.4        0.0   \n",
       "3 2016-02-01     УСП00000107   155197        12.0        435.6        0.0   \n",
       "4 2016-02-01     УСП00000861       93         4.0         83.6        0.0   \n",
       "\n",
       "   ВозвратРуб  ОтгрузкаКГ  ВозвратКГ  \n",
       "0         0.0         7.2        0.0  \n",
       "1         0.0        14.4        0.0  \n",
       "2         0.0         4.8        0.0  \n",
       "3         0.0         7.2        0.0  \n",
       "4         0.0         1.4        0.0  "
      ]
     },
     "execution_count": 3,
     "metadata": {},
     "output_type": "execute_result"
    }
   ],
   "source": [
    "df.head()"
   ]
  },
  {
   "cell_type": "code",
   "execution_count": 4,
   "metadata": {
    "collapsed": false
   },
   "outputs": [
    {
     "data": {
      "image/png": "[encoded data removed]",
      "text/plain": [
       "<matplotlib.figure.Figure at 0x15426518>"
      ]
     },
     "metadata": {},
     "output_type": "display_data"
    }
   ],
   "source": [
    "sum_df = df.groupby('KOD_CLT')['ОтгрузкаШТ', 'ВозвратШТ'].sum()\n",
    "pr_return = sum_df['ВозвратШТ']/sum_df['ОтгрузкаШТ'] * 100\n",
    "plt.figure(figsize=(12,8))\n",
    "plt.xticks(rotation='90')\n",
    "pr_return = pr_return.sort_values(ascending=False)\n",
    "ax = sns.barplot(x = pr_return.index, y = pr_return.values, order=pr_return.index)\n",
    "ax.set(title='Процент возвратов по магазинам')\n",
    "plt.show()"
   ]
  },
  {
   "cell_type": "code",
   "execution_count": 5,
   "metadata": {
    "collapsed": false
   },
   "outputs": [
    {
     "data": {
      "image/png": "[encoded data removed]",
      "text/plain": [
       "<matplotlib.figure.Figure at 0xd327198>"
      ]
     },
     "metadata": {},
     "output_type": "display_data"
    }
   ],
   "source": [
    "sum_df_ret_rub = df.groupby('KOD_CLT')['ВозвратРуб'].sum()\n",
    "plt.figure(figsize=(12,8))\n",
    "plt.xticks(rotation='90')\n",
    "sum_df_ret_rub = sum_df_ret_rub.sort_values(ascending=False)\n",
    "ax = sns.barplot(x = sum_df_ret_rub.index, y = sum_df_ret_rub.values, order=sum_df_ret_rub.index)\n",
    "ax.set(title='Возвраты по магазинам в рублях')\n",
    "plt.show()"
   ]
  },
  {
   "cell_type": "code",
   "execution_count": 6,
   "metadata": {
    "collapsed": false
   },
   "outputs": [
    {
     "data": {
      "image/png": "[encoded data removed]",
      "text/plain": [
       "<matplotlib.figure.Figure at 0xe699d68>"
      ]
     },
     "metadata": {},
     "output_type": "display_data"
    }
   ],
   "source": [
    "unique = df.groupby('KOD_CLT')['КодНоменклатуры'].nunique()\n",
    "plt.figure(figsize=(12,8))\n",
    "plt.xticks(rotation='90')\n",
    "unique = unique.sort_values(ascending=False)\n",
    "ax = sns.barplot(x = unique.index, y = unique.values, order=unique.index)\n",
    "ax.set(title='Количество уникальных товаров в магазине (по всему датасету их 336)')\n",
    "plt.show()"
   ]
  },
  {
   "cell_type": "code",
   "execution_count": 7,
   "metadata": {
    "collapsed": false
   },
   "outputs": [
    {
     "data": {
      "image/png": "[encoded data removed]",
      "text/plain": [
       "<matplotlib.figure.Figure at 0x1090b3c8>"
      ]
     },
     "metadata": {},
     "output_type": "display_data"
    }
   ],
   "source": [
    "# Сколько уникальных кодов продукции поставляется в магазины на данный момент (в последние две недели)?\n",
    "df['Date'] = pd.to_datetime(df['День'], format='%d.%m.%Y')\n",
    "df.index = df['Date']\n",
    "df = df.sort_index()\n",
    "df_last_2_weeks = df[df.index > pd.to_datetime('2017-07-11')]\n",
    "nu2_weeks = len(set(df_last_2_weeks['КодНоменклатуры'])) #вссего число уникальных товаров\n",
    "unique = df_last_2_weeks.groupby('KOD_CLT')['КодНоменклатуры'].nunique()\n",
    "plt.figure(figsize=(12,8))\n",
    "plt.xticks(rotation='90')\n",
    "unique = unique.sort_values(ascending=False)\n",
    "ax = sns.barplot(x = unique.index, y = unique.values, order=unique.index)\n",
    "ax.set(title='Количество уникальных товаров в магазинах за последние 2 недели (всего уникальных за 2 недели - {})'.format(nu2_weeks))\n",
    "plt.show()"
   ]
  },
  {
   "cell_type": "code",
   "execution_count": 8,
   "metadata": {
    "collapsed": true
   },
   "outputs": [],
   "source": [
    "# определяем частоту поставок товара за весь период, выделяем те товары, которые поставляются в последние две недели для анализа \n",
    "# количество дней поставок товара\n",
    "count_days = df.groupby(['KOD_CLT', 'КодНоменклатуры'])['ОтгрузкаКГ'].count().reset_index()\n",
    "# из них отавляем те, которые поставляются последние две недели\n",
    "count_days = count_days.merge(df_last_2_weeks[['KOD_CLT', 'КодНоменклатуры']], on= ['KOD_CLT', 'КодНоменклатуры']).drop_duplicates().reset_index()\n",
    "# первый день поставки товара\n",
    "days_first = df.groupby(['KOD_CLT', 'КодНоменклатуры'])['Date'].min().reset_index()\n",
    "days_first = days_first.rename(columns = {'Date': 'Пер. д. пост'})\n",
    "# последний день поставки товара\n",
    "days_last = df.groupby(['KOD_CLT', 'КодНоменклатуры'])['Date'].max().reset_index()\n",
    "days_last = days_last.rename(columns = {'Date': 'Посл. д. пост'})\n",
    "\n",
    "days_count = days_first.merge(days_last, on = ['KOD_CLT', 'КодНоменклатуры'])\n",
    "days_count['С момента первого появления (дн.)'] = (days_count['Посл. д. пост'] - days_count['Пер. д. пост']).map(lambda x: x.days) + 1\n",
    "\n",
    "count_days = count_days.rename(columns={'ОтгрузкаКГ':'ДнейОтгрузок'}) # переименовываем колонку\n",
    "days_count = days_count.merge(count_days, on= ['KOD_CLT', 'КодНоменклатуры'])[['KOD_CLT', 'КодНоменклатуры','Пер. д. пост', 'Посл. д. пост', 'С момента первого появления (дн.)', 'ДнейОтгрузок']]\n",
    "\n",
    "days_count['Частота поставок'] = days_count['ДнейОтгрузок']/days_count['С момента первого появления (дн.)']\n",
    "days_count = days_count[days_count['Частота поставок'] > 0.8]\n",
    "days_count.index = range(len(days_count))"
   ]
  },
  {
   "cell_type": "code",
   "execution_count": 9,
   "metadata": {
    "collapsed": false
   },
   "outputs": [
    {
     "data": {
      "text/html": [
       "<div>\n",
       "<style>\n",
       "    .dataframe thead tr:only-child th {\n",
       "        text-align: right;\n",
       "    }\n",
       "\n",
       "    .dataframe thead th {\n",
       "        text-align: left;\n",
       "    }\n",
       "\n",
       "    .dataframe tbody tr th {\n",
       "        vertical-align: top;\n",
       "    }\n",
       "</style>\n",
       "<table border=\"1\" class=\"dataframe\">\n",
       "  <thead>\n",
       "    <tr style=\"text-align: right;\">\n",
       "      <th></th>\n",
       "      <th>KOD_CLT</th>\n",
       "      <th>КодНоменклатуры</th>\n",
       "      <th>Пер. д. пост</th>\n",
       "      <th>Посл. д. пост</th>\n",
       "      <th>С момента первого появления (дн.)</th>\n",
       "      <th>ДнейОтгрузок</th>\n",
       "      <th>Частота поставок</th>\n",
       "    </tr>\n",
       "  </thead>\n",
       "  <tbody>\n",
       "    <tr>\n",
       "      <th>0</th>\n",
       "      <td>93</td>\n",
       "      <td>П0000000100</td>\n",
       "      <td>2016-02-03</td>\n",
       "      <td>2017-07-25</td>\n",
       "      <td>539</td>\n",
       "      <td>450</td>\n",
       "      <td>0.834879</td>\n",
       "    </tr>\n",
       "    <tr>\n",
       "      <th>1</th>\n",
       "      <td>93</td>\n",
       "      <td>П0000000102</td>\n",
       "      <td>2016-02-03</td>\n",
       "      <td>2017-07-25</td>\n",
       "      <td>539</td>\n",
       "      <td>459</td>\n",
       "      <td>0.851577</td>\n",
       "    </tr>\n",
       "    <tr>\n",
       "      <th>2</th>\n",
       "      <td>93</td>\n",
       "      <td>П0000000109</td>\n",
       "      <td>2016-02-03</td>\n",
       "      <td>2017-07-25</td>\n",
       "      <td>539</td>\n",
       "      <td>479</td>\n",
       "      <td>0.888683</td>\n",
       "    </tr>\n",
       "    <tr>\n",
       "      <th>3</th>\n",
       "      <td>93</td>\n",
       "      <td>П0000000113</td>\n",
       "      <td>2016-02-04</td>\n",
       "      <td>2017-07-24</td>\n",
       "      <td>537</td>\n",
       "      <td>475</td>\n",
       "      <td>0.884544</td>\n",
       "    </tr>\n",
       "    <tr>\n",
       "      <th>4</th>\n",
       "      <td>93</td>\n",
       "      <td>С0000000041</td>\n",
       "      <td>2016-02-12</td>\n",
       "      <td>2017-07-24</td>\n",
       "      <td>529</td>\n",
       "      <td>456</td>\n",
       "      <td>0.862004</td>\n",
       "    </tr>\n",
       "  </tbody>\n",
       "</table>\n",
       "</div>"
      ],
      "text/plain": [
       "   KOD_CLT КодНоменклатуры Пер. д. пост Посл. д. пост  \\\n",
       "0       93     П0000000100   2016-02-03    2017-07-25   \n",
       "1       93     П0000000102   2016-02-03    2017-07-25   \n",
       "2       93     П0000000109   2016-02-03    2017-07-25   \n",
       "3       93     П0000000113   2016-02-04    2017-07-24   \n",
       "4       93     С0000000041   2016-02-12    2017-07-24   \n",
       "\n",
       "   С момента первого появления (дн.)  ДнейОтгрузок  Частота поставок  \n",
       "0                                539           450          0.834879  \n",
       "1                                539           459          0.851577  \n",
       "2                                539           479          0.888683  \n",
       "3                                537           475          0.884544  \n",
       "4                                529           456          0.862004  "
      ]
     },
     "execution_count": 9,
     "metadata": {},
     "output_type": "execute_result"
    }
   ],
   "source": [
    "days_count.head()"
   ]
  },
  {
   "cell_type": "code",
   "execution_count": 11,
   "metadata": {
    "collapsed": false
   },
   "outputs": [
    {
     "data": {
      "text/plain": [
       "284"
      ]
     },
     "execution_count": 11,
     "metadata": {},
     "output_type": "execute_result"
    }
   ],
   "source": [
    "len(days_count[['КодНоменклатуры', 'KOD_CLT']].drop_duplicates()) # число уникальных пар клиент-продукт в days_count"
   ]
  },
  {
   "cell_type": "code",
   "execution_count": 12,
   "metadata": {
    "collapsed": true
   },
   "outputs": [],
   "source": [
    "list_otg = []\n",
    "list_vozv = []\n",
    "for i in range(len(days_count)):\n",
    "    prd = days_count.КодНоменклатуры.values[i]\n",
    "    clt = days_count.KOD_CLT.values[i]\n",
    "    df_prd_clt = df[(df['КодНоменклатуры'] == prd)&(df['KOD_CLT'] == clt)]\n",
    "    list_otg.append(round(df_prd_clt.groupby(['КодНоменклатуры', 'KOD_CLT'])['ОтгрузкаРуб'].sum().values[0]))\n",
    "    list_vozv.append(round(df_prd_clt.groupby(['КодНоменклатуры', 'KOD_CLT'])['ВозвратРуб'].sum().values[0]))\n",
    "days_count['ВсегоОтгрузокРуб'] = list_otg\n",
    "days_count['ВсегоВозвратовРуб'] = list_vozv"
   ]
  },
  {
   "cell_type": "code",
   "execution_count": 13,
   "metadata": {
    "collapsed": false
   },
   "outputs": [
    {
     "data": {
      "text/html": [
       "<div>\n",
       "<style>\n",
       "    .dataframe thead tr:only-child th {\n",
       "        text-align: right;\n",
       "    }\n",
       "\n",
       "    .dataframe thead th {\n",
       "        text-align: left;\n",
       "    }\n",
       "\n",
       "    .dataframe tbody tr th {\n",
       "        vertical-align: top;\n",
       "    }\n",
       "</style>\n",
       "<table border=\"1\" class=\"dataframe\">\n",
       "  <thead>\n",
       "    <tr style=\"text-align: right;\">\n",
       "      <th></th>\n",
       "      <th>KOD_CLT</th>\n",
       "      <th>КодНоменклатуры</th>\n",
       "      <th>Пер. д. пост</th>\n",
       "      <th>Посл. д. пост</th>\n",
       "      <th>С момента первого появления (дн.)</th>\n",
       "      <th>ДнейОтгрузок</th>\n",
       "      <th>Частота поставок</th>\n",
       "      <th>ВсегоОтгрузокРуб</th>\n",
       "      <th>ВсегоВозвратовРуб</th>\n",
       "    </tr>\n",
       "  </thead>\n",
       "  <tbody>\n",
       "    <tr>\n",
       "      <th>0</th>\n",
       "      <td>93</td>\n",
       "      <td>П0000000100</td>\n",
       "      <td>2016-02-03</td>\n",
       "      <td>2017-07-25</td>\n",
       "      <td>539</td>\n",
       "      <td>450</td>\n",
       "      <td>0.834879</td>\n",
       "      <td>150682.0</td>\n",
       "      <td>4841.0</td>\n",
       "    </tr>\n",
       "    <tr>\n",
       "      <th>1</th>\n",
       "      <td>93</td>\n",
       "      <td>П0000000102</td>\n",
       "      <td>2016-02-03</td>\n",
       "      <td>2017-07-25</td>\n",
       "      <td>539</td>\n",
       "      <td>459</td>\n",
       "      <td>0.851577</td>\n",
       "      <td>108910.0</td>\n",
       "      <td>2747.0</td>\n",
       "    </tr>\n",
       "    <tr>\n",
       "      <th>2</th>\n",
       "      <td>93</td>\n",
       "      <td>П0000000109</td>\n",
       "      <td>2016-02-03</td>\n",
       "      <td>2017-07-25</td>\n",
       "      <td>539</td>\n",
       "      <td>479</td>\n",
       "      <td>0.888683</td>\n",
       "      <td>108838.0</td>\n",
       "      <td>2000.0</td>\n",
       "    </tr>\n",
       "    <tr>\n",
       "      <th>3</th>\n",
       "      <td>93</td>\n",
       "      <td>П0000000113</td>\n",
       "      <td>2016-02-04</td>\n",
       "      <td>2017-07-24</td>\n",
       "      <td>537</td>\n",
       "      <td>475</td>\n",
       "      <td>0.884544</td>\n",
       "      <td>107444.0</td>\n",
       "      <td>1333.0</td>\n",
       "    </tr>\n",
       "    <tr>\n",
       "      <th>4</th>\n",
       "      <td>93</td>\n",
       "      <td>С0000000041</td>\n",
       "      <td>2016-02-12</td>\n",
       "      <td>2017-07-24</td>\n",
       "      <td>529</td>\n",
       "      <td>456</td>\n",
       "      <td>0.862004</td>\n",
       "      <td>135392.0</td>\n",
       "      <td>2816.0</td>\n",
       "    </tr>\n",
       "  </tbody>\n",
       "</table>\n",
       "</div>"
      ],
      "text/plain": [
       "   KOD_CLT КодНоменклатуры Пер. д. пост Посл. д. пост  \\\n",
       "0       93     П0000000100   2016-02-03    2017-07-25   \n",
       "1       93     П0000000102   2016-02-03    2017-07-25   \n",
       "2       93     П0000000109   2016-02-03    2017-07-25   \n",
       "3       93     П0000000113   2016-02-04    2017-07-24   \n",
       "4       93     С0000000041   2016-02-12    2017-07-24   \n",
       "\n",
       "   С момента первого появления (дн.)  ДнейОтгрузок  Частота поставок  \\\n",
       "0                                539           450          0.834879   \n",
       "1                                539           459          0.851577   \n",
       "2                                539           479          0.888683   \n",
       "3                                537           475          0.884544   \n",
       "4                                529           456          0.862004   \n",
       "\n",
       "   ВсегоОтгрузокРуб  ВсегоВозвратовРуб  \n",
       "0          150682.0             4841.0  \n",
       "1          108910.0             2747.0  \n",
       "2          108838.0             2000.0  \n",
       "3          107444.0             1333.0  \n",
       "4          135392.0             2816.0  "
      ]
     },
     "execution_count": 13,
     "metadata": {},
     "output_type": "execute_result"
    }
   ],
   "source": [
    "days_count.head()"
   ]
  },
  {
   "cell_type": "code",
   "execution_count": 14,
   "metadata": {
    "collapsed": true
   },
   "outputs": [],
   "source": [
    "# расчет процента просроченной продукции\n",
    "list_otg_count = []\n",
    "list_vozv_count = []\n",
    "for i in range(len(days_count)):\n",
    "    prd = days_count.КодНоменклатуры.values[i]\n",
    "    clt = days_count.KOD_CLT.values[i]\n",
    "    df_prd_clt = df[(df['КодНоменклатуры'] == prd)&(df['KOD_CLT'] == clt)]\n",
    "    list_otg_count.append(round(df_prd_clt.groupby(['КодНоменклатуры', 'KOD_CLT'])['ОтгрузкаШТ'].sum().values[0]))\n",
    "    list_vozv_count.append(round(df_prd_clt.groupby(['КодНоменклатуры', 'KOD_CLT'])['ВозвратШТ'].sum().values[0]))\n",
    "days_count['ВсегоОтгрузокШТ'] = list_otg_count\n",
    "days_count['ВсегоВозвратовШт'] = list_vozv_count\n",
    "days_count['ПроцентВозвр'] = days_count['ВсегоВозвратовШт']/days_count['ВсегоОтгрузокШТ']"
   ]
  },
  {
   "cell_type": "code",
   "execution_count": 16,
   "metadata": {
    "collapsed": false
   },
   "outputs": [
    {
     "data": {
      "text/html": [
       "<div>\n",
       "<style>\n",
       "    .dataframe thead tr:only-child th {\n",
       "        text-align: right;\n",
       "    }\n",
       "\n",
       "    .dataframe thead th {\n",
       "        text-align: left;\n",
       "    }\n",
       "\n",
       "    .dataframe tbody tr th {\n",
       "        vertical-align: top;\n",
       "    }\n",
       "</style>\n",
       "<table border=\"1\" class=\"dataframe\">\n",
       "  <thead>\n",
       "    <tr style=\"text-align: right;\">\n",
       "      <th></th>\n",
       "      <th>KOD_CLT</th>\n",
       "      <th>КодНоменклатуры</th>\n",
       "      <th>Пер. д. пост</th>\n",
       "      <th>Посл. д. пост</th>\n",
       "      <th>С момента первого появления (дн.)</th>\n",
       "      <th>ДнейОтгрузок</th>\n",
       "      <th>Частота поставок</th>\n",
       "      <th>ВсегоОтгрузокРуб</th>\n",
       "      <th>ВсегоВозвратовРуб</th>\n",
       "      <th>ВсегоОтгрузокШТ</th>\n",
       "      <th>ВсегоВозвратовШт</th>\n",
       "      <th>ПроцентВозвр</th>\n",
       "    </tr>\n",
       "  </thead>\n",
       "  <tbody>\n",
       "    <tr>\n",
       "      <th>110</th>\n",
       "      <td>2104</td>\n",
       "      <td>ЭХ000000045</td>\n",
       "      <td>2017-03-23</td>\n",
       "      <td>2017-07-25</td>\n",
       "      <td>125</td>\n",
       "      <td>101</td>\n",
       "      <td>0.808000</td>\n",
       "      <td>3880.0</td>\n",
       "      <td>1584.0</td>\n",
       "      <td>371.0</td>\n",
       "      <td>151.0</td>\n",
       "      <td>0.407008</td>\n",
       "    </tr>\n",
       "    <tr>\n",
       "      <th>203</th>\n",
       "      <td>155197</td>\n",
       "      <td>П0000000103</td>\n",
       "      <td>2016-02-11</td>\n",
       "      <td>2017-07-25</td>\n",
       "      <td>531</td>\n",
       "      <td>492</td>\n",
       "      <td>0.926554</td>\n",
       "      <td>25536.0</td>\n",
       "      <td>7296.0</td>\n",
       "      <td>798.0</td>\n",
       "      <td>228.0</td>\n",
       "      <td>0.285714</td>\n",
       "    </tr>\n",
       "    <tr>\n",
       "      <th>267</th>\n",
       "      <td>155197</td>\n",
       "      <td>ЭХ000071916</td>\n",
       "      <td>2016-01-03</td>\n",
       "      <td>2017-07-25</td>\n",
       "      <td>570</td>\n",
       "      <td>469</td>\n",
       "      <td>0.822807</td>\n",
       "      <td>29936.0</td>\n",
       "      <td>7483.0</td>\n",
       "      <td>1518.0</td>\n",
       "      <td>379.0</td>\n",
       "      <td>0.249671</td>\n",
       "    </tr>\n",
       "    <tr>\n",
       "      <th>215</th>\n",
       "      <td>155197</td>\n",
       "      <td>С0000001758</td>\n",
       "      <td>2016-12-15</td>\n",
       "      <td>2017-07-25</td>\n",
       "      <td>223</td>\n",
       "      <td>198</td>\n",
       "      <td>0.887892</td>\n",
       "      <td>11820.0</td>\n",
       "      <td>2700.0</td>\n",
       "      <td>591.0</td>\n",
       "      <td>135.0</td>\n",
       "      <td>0.228426</td>\n",
       "    </tr>\n",
       "    <tr>\n",
       "      <th>109</th>\n",
       "      <td>2104</td>\n",
       "      <td>ЭХ000000029</td>\n",
       "      <td>2017-03-23</td>\n",
       "      <td>2017-07-25</td>\n",
       "      <td>125</td>\n",
       "      <td>105</td>\n",
       "      <td>0.840000</td>\n",
       "      <td>6706.0</td>\n",
       "      <td>1498.0</td>\n",
       "      <td>287.0</td>\n",
       "      <td>64.0</td>\n",
       "      <td>0.222997</td>\n",
       "    </tr>\n",
       "  </tbody>\n",
       "</table>\n",
       "</div>"
      ],
      "text/plain": [
       "     KOD_CLT КодНоменклатуры Пер. д. пост Посл. д. пост  \\\n",
       "110     2104     ЭХ000000045   2017-03-23    2017-07-25   \n",
       "203   155197     П0000000103   2016-02-11    2017-07-25   \n",
       "267   155197     ЭХ000071916   2016-01-03    2017-07-25   \n",
       "215   155197     С0000001758   2016-12-15    2017-07-25   \n",
       "109     2104     ЭХ000000029   2017-03-23    2017-07-25   \n",
       "\n",
       "     С момента первого появления (дн.)  ДнейОтгрузок  Частота поставок  \\\n",
       "110                                125           101          0.808000   \n",
       "203                                531           492          0.926554   \n",
       "267                                570           469          0.822807   \n",
       "215                                223           198          0.887892   \n",
       "109                                125           105          0.840000   \n",
       "\n",
       "     ВсегоОтгрузокРуб  ВсегоВозвратовРуб  ВсегоОтгрузокШТ  ВсегоВозвратовШт  \\\n",
       "110            3880.0             1584.0            371.0             151.0   \n",
       "203           25536.0             7296.0            798.0             228.0   \n",
       "267           29936.0             7483.0           1518.0             379.0   \n",
       "215           11820.0             2700.0            591.0             135.0   \n",
       "109            6706.0             1498.0            287.0              64.0   \n",
       "\n",
       "     ПроцентВозвр  \n",
       "110      0.407008  \n",
       "203      0.285714  \n",
       "267      0.249671  \n",
       "215      0.228426  \n",
       "109      0.222997  "
      ]
     },
     "execution_count": 16,
     "metadata": {},
     "output_type": "execute_result"
    }
   ],
   "source": [
    "days_count.sort_values('ПроцентВозвр', ascending=False).head() # вывод пяти кодов продукции с самым большим возвратом"
   ]
  },
  {
   "cell_type": "code",
   "execution_count": 18,
   "metadata": {
    "collapsed": true
   },
   "outputs": [],
   "source": [
    "#экспорт отчета в эксель\n",
    "days_count.sort_values('ПроцентВозвр', ascending=False).to_excel('report.xlsx', index = False)"
   ]
  },
  {
   "cell_type": "code",
   "execution_count": null,
   "metadata": {
    "collapsed": true
   },
   "outputs": [],
   "source": []
  }
 ],
 "metadata": {
  "kernelspec": {
   "display_name": "Python 3",
   "language": "python",
   "name": "python3"
  },
  "language_info": {
   "codemirror_mode": {
    "name": "ipython",
    "version": 3
   },
   "file_extension": ".py",
   "mimetype": "text/x-python",
   "name": "python",
   "nbconvert_exporter": "python",
   "pygments_lexer": "ipython3",
   "version": "3.5.2"
  }
 },
 "nbformat": 4,
 "nbformat_minor": 2
}
